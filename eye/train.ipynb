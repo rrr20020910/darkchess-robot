{
 "cells": [
  {
   "cell_type": "code",
   "execution_count": null,
   "metadata": {},
   "outputs": [],
   "source": [
    "import cv2\n",
    "from tensorflow import keras\n",
    "from keras.models import Sequential,load_model\n",
    "from keras.layers import Dense,Conv2D,MaxPooling2D,Flatten,Dropout,AveragePooling2D\n",
    "from keras.utils import np_utils\n",
    "from keras import losses\n",
    "from keras.preprocessing.image import ImageDataGenerator\n",
    "import numpy as np\n",
    "import matplotlib.pyplot as plt\n",
    "import random\n",
    "import math\n",
    "from IPython.display import clear_output as clear\n",
    "# from sklearn.model_selection import train_test_split"
   ]
  },
  {
   "cell_type": "code",
   "execution_count": null,
   "metadata": {},
   "outputs": [],
   "source": [
    "from tensorflow.python.client import device_lib \n",
    "print(device_lib.list_local_devices()) "
   ]
  },
  {
   "cell_type": "code",
   "execution_count": null,
   "metadata": {},
   "outputs": [],
   "source": [
    "rgb_frame = []\n",
    "rgb_label = []\n",
    "gray_frame = []\n",
    "gray_label = []\n",
    "for label in range(14):\n",
    "    for folder in range(2):\n",
    "        for png_num in range(18000):\n",
    "            filename = str(label)+'_'+str(png_num+1)+'.png'\n",
    "            path = 'D:/chess_train_data/chess_train_picture'+str(folder)+'/'\n",
    "            frame = cv2.imread(path+filename)\n",
    "            frame = cv2.resize(frame,(56,56),interpolation=cv2.INTER_CUBIC)\n",
    "            frame = cv2.cvtColor(frame,cv2.COLOR_BGR2GRAY)\n",
    "            gray_label += [label]\n",
    "            frame = np.array(frame) / 255.0\n",
    "            gray_frame += [frame]\n",
    "            print(path+filename)\n",
    "            clear()\n",
    "            \n",
    "gray_label = np.array(gray_label)"
   ]
  },
  {
   "cell_type": "code",
   "execution_count": null,
   "metadata": {},
   "outputs": [],
   "source": [
    "rgb_frame_t = []\n",
    "rgb_label_t = []\n",
    "gray_frame_t = []\n",
    "gray_label_t = []\n",
    "for label in range(14):\n",
    "    for folder in range(2):\n",
    "        for png_num in range(5400):\n",
    "            filename = str(label)+'_'+str(png_num+18000+1)+'.png'\n",
    "            path = 'D:/chess_train_data/chess_train_picture'+str(folder)+'/'\n",
    "            frame = cv2.imread(path+filename)\n",
    "            frame = cv2.resize(frame,(56,56),interpolation=cv2.INTER_CUBIC)\n",
    "            frame = cv2.cvtColor(frame,cv2.COLOR_BGR2GRAY)\n",
    "            gray_label_t += [label]\n",
    "            frame = np.array(frame) / 255.0\n",
    "            gray_frame_t += [frame]\n",
    "            print(path+filename)\n",
    "            clear()\n",
    "            \n",
    "gray_label_t = np.array(gray_label_t)"
   ]
  },
  {
   "cell_type": "code",
   "execution_count": null,
   "metadata": {},
   "outputs": [],
   "source": [
    "'''np.save('D:/chess_train_data/chess_train/rgb_frame2',rgb_frame)\n",
    "np.save('D:/chess_train_data/chess_train/rgb_label2',rgb_label)'''\n",
    "np.save('D:/chess_train_data/chess_train/gray_frame_mix_56',gray_frame)\n",
    "np.save('D:/chess_train_data/chess_train/gray_label_mix_56',gray_label)"
   ]
  },
  {
   "cell_type": "code",
   "execution_count": null,
   "metadata": {},
   "outputs": [],
   "source": [
    "gray_frame = np.load('D:/chess_train_data/chess_train/gray_frame_mix_56.npy')\n",
    "gray_label = np.load('D:/chess_train_data/chess_train/gray_label_mix_56.npy')"
   ]
  },
  {
   "cell_type": "code",
   "execution_count": null,
   "metadata": {},
   "outputs": [],
   "source": [
    "'''np.save('D:/chess_train_data/chess_train/rgb_frame2',rgb_frame)\n",
    "np.save('D:/chess_train_data/chess_train/rgb_label2',rgb_label)'''\n",
    "np.save('D:/chess_train_data/chess_train/gray_frame_t_mix_56',gray_frame_t)\n",
    "np.save('D:/chess_train_data/chess_train/gray_label_t_mix_56',gray_label_t)"
   ]
  },
  {
   "cell_type": "code",
   "execution_count": null,
   "metadata": {},
   "outputs": [],
   "source": [
    "def randSampe(x,y):\n",
    "    # 根據樣本的數量，建立 1~ len(x) 的數列 a\n",
    "    a = np.arange(len(x))\n",
    "    \n",
    "    # 將數列打亂，以作為 x (樣本) 跟  y (label) 的亂數次序\n",
    "    random.shuffle(a)\n",
    "    \n",
    "    # 將 x,y 與已經打亂的數列 a 合併成 zx, zy \n",
    "    zx = zip(a,x)\n",
    "    zy = zip(a,y)\n",
    "    \n",
    "    # 將 zx,zy 進行排序，此時 zx, zy 內的 x, y 陣列，順序已經被打亂  \n",
    "    zx = sorted(zx,reverse=False)\n",
    "    zy = sorted(zy,reverse=False)\n",
    "    \n",
    "    #將 zx,zy 重新解開，將已經打亂的 x,y 放在 x_train 及 y_train\n",
    "    _ ,x_train = zip(*zx)\n",
    "    _ ,y_train = zip(*zy)\n",
    "    \n",
    "    return np.array(x_train),np.array(y_train)"
   ]
  },
  {
   "cell_type": "code",
   "execution_count": null,
   "metadata": {},
   "outputs": [],
   "source": [
    "plt.figure(figsize=(10,10))\n",
    "check_index = 0\n",
    "for i in range(25):\n",
    "    plt.subplot(5,5,i+1)\n",
    "    plt.xticks([])\n",
    "    plt.yticks([])\n",
    "    plt.grid(False)\n",
    "    plt.imshow(gray_frame[i+check_index])\n",
    "    plt.xlabel(gray_label[i+check_index])\n",
    "plt.show()"
   ]
  },
  {
   "cell_type": "code",
   "execution_count": null,
   "metadata": {},
   "outputs": [],
   "source": [
    "model = keras.Sequential([\n",
    "    keras.layers.Conv2D(64,(3,3),strides=(1,1),input_shape=(56,56,1),padding='same',activation='relu'),\n",
    "    keras.layers.Conv2D(64,(3,3),strides=(1,1),padding='same',activation='relu'),\n",
    "    keras.layers.MaxPooling2D(pool_size=(2,2)),\n",
    "    keras.layers.Conv2D(128,(3,3),strides=(1,1),padding='same',activation='relu'),\n",
    "    keras.layers.Conv2D(128,(3,3),strides=(1,1),padding='same',activation='relu'),\n",
    "    keras.layers.MaxPooling2D(pool_size=(2,2)),\n",
    "    keras.layers.Conv2D(256,(3,3),strides=(1,1),padding='same',activation='relu'),\n",
    "    keras.layers.Conv2D(256,(3,3),strides=(1,1),padding='same',activation='relu'),\n",
    "    keras.layers.Conv2D(256,(3,3),strides=(1,1),padding='same',activation='relu'),\n",
    "    keras.layers.MaxPooling2D(pool_size=(2,2)),\n",
    "    keras.layers.Conv2D(512,(3,3),strides=(1,1),padding='same',activation='relu'),\n",
    "    keras.layers.Conv2D(512,(3,3),strides=(1,1),padding='same',activation='relu'),\n",
    "    keras.layers.Conv2D(512,(3,3),strides=(1,1),padding='same',activation='relu'),\n",
    "    keras.layers.MaxPooling2D(pool_size=(2,2)),\n",
    "    keras.layers.Flatten(),\n",
    "    keras.layers.Dense(4096,activation='relu'),\n",
    "    keras.layers.Dropout(0.5),\n",
    "    keras.layers.Dense(4096,activation='relu'),\n",
    "    keras.layers.Dropout(0.5),\n",
    "    keras.layers.Dense(1000,activation='relu'),\n",
    "    keras.layers.Dropout(0.5),\n",
    "    keras.layers.Dense(14,activation='softmax'),\n",
    "])"
   ]
  },
  {
   "cell_type": "code",
   "execution_count": null,
   "metadata": {},
   "outputs": [],
   "source": [
    "model = Sequential()\n",
    "model.add(Conv2D(64,(3,3),strides=(1,1),input_shape=(56,56,1),padding='same',activation='relu'))\n",
    "model.add(Conv2D(64,(3,3),strides=(1,1),padding='same',activation='relu'))\n",
    "model.add(MaxPooling2D(pool_size=(2,2)))\n",
    "model.add(Conv2D(128,(3,2),strides=(1,1),padding='same',activation='relu'))\n",
    "model.add(Conv2D(128,(3,3),strides=(1,1),padding='same',activation='relu'))\n",
    "model.add(MaxPooling2D(pool_size=(2,2)))\n",
    "model.add(Conv2D(256,(3,3),strides=(1,1),padding='same',activation='relu'))\n",
    "model.add(Conv2D(256,(3,3),strides=(1,1),padding='same',activation='relu'))\n",
    "model.add(Conv2D(256,(3,3),strides=(1,1),padding='same',activation='relu'))\n",
    "model.add(MaxPooling2D(pool_size=(2,2)))\n",
    "model.add(Conv2D(512,(3,3),strides=(1,1),padding='same',activation='relu'))\n",
    "model.add(Conv2D(512,(3,3),strides=(1,1),padding='same',activation='relu'))\n",
    "model.add(Conv2D(512,(3,3),strides=(1,1),padding='same',activation='relu'))\n",
    "model.add(MaxPooling2D(pool_size=(2,2)))\n",
    "model.add(Flatten())\n",
    "model.add(Dense(4096,activation='relu'))\n",
    "model.add(Dropout(0.5))\n",
    "model.add(Dense(4096,activation='relu'))\n",
    "model.add(Dropout(0.5))\n",
    "model.add(Dense(1000,activation='relu'))\n",
    "model.add(Dropout(0.5))\n",
    "model.add(Dense(14,activation='softmax'))"
   ]
  },
  {
   "cell_type": "code",
   "execution_count": null,
   "metadata": {},
   "outputs": [],
   "source": [
    "model.summary()"
   ]
  },
  {
   "cell_type": "code",
   "execution_count": null,
   "metadata": {},
   "outputs": [],
   "source": [
    "model.compile(optimizer='adam',\n",
    "              loss= 'categorical_crossentropy',\n",
    "              metrics=['accuracy'])"
   ]
  },
  {
   "cell_type": "code",
   "execution_count": null,
   "metadata": {},
   "outputs": [],
   "source": [
    "from keras.optimizers import Adam\n",
    "model.compile(optimizer=Adam(lr=0.00001, beta_1=0.9, beta_2=0.999, epsilon=1e-08),loss = 'categorical_crossentropy',metrics=['accuracy'])"
   ]
  },
  {
   "cell_type": "code",
   "execution_count": null,
   "metadata": {},
   "outputs": [],
   "source": [
    "gray_frame1 = np.reshape(gray_frame,[-1,56,56,1])\n",
    "gray_label1 = np_utils.to_categorical(gray_label, num_classes=14)"
   ]
  },
  {
   "cell_type": "code",
   "execution_count": null,
   "metadata": {},
   "outputs": [],
   "source": [
    "gen = ImageDataGenretor(featurewise_center=False,\n",
    "                        rotation_range=40, # 角度值，0~180，影象旋轉\n",
    "                        width_shift_range=0.2, # 水平平移，相對總寬度的比例\n",
    "                        height_shift_range=0.2, # 垂直平移，相對總高度的比例\n",
    "                        shear_range=0.2, # 隨機錯切換角度\n",
    "                        zoom_range=0.2, # 隨機縮放範圍\n",
    "                        horizontal_flip=True, # 一半影象水平翻轉\n",
    "                        fill_mode='nearest' # 填充新建立畫素的方法\n",
    "                       )"
   ]
  },
  {
   "cell_type": "code",
   "execution_count": null,
   "metadata": {},
   "outputs": [],
   "source": [
    "history = model.fit(gray_frame1,gray_label1, epochs=15\n",
    "                    ,batch_size=360)"
   ]
  },
  {
   "cell_type": "code",
   "execution_count": null,
   "metadata": {},
   "outputs": [],
   "source": [
    "check_history = model.evaluate(gray_frame1, gray_label1)"
   ]
  },
  {
   "cell_type": "code",
   "execution_count": null,
   "metadata": {},
   "outputs": [],
   "source": [
    "check_history"
   ]
  },
  {
   "cell_type": "code",
   "execution_count": null,
   "metadata": {},
   "outputs": [],
   "source": [
    "plt.figure(figsize=(10,10))\n",
    "predict_index = 0\n",
    "for i in range(100):\n",
    "    plt.subplot(10,10,i+1)\n",
    "    plt.xticks([])\n",
    "    plt.yticks([])    \n",
    "    plt.grid(False)\n",
    "    a = gray_frame[predict_index+i].reshape([-1,56,56,1])\n",
    "    m = model.predict(a)\n",
    "    plt.imshow(gray_frame[predict_index+i])\n",
    "    plt.xlabel(m.argmax())\n",
    "plt.show()"
   ]
  },
  {
   "cell_type": "code",
   "execution_count": null,
   "metadata": {},
   "outputs": [],
   "source": [
    "model.save('cnn_darkchess_model.h5')\n",
    "model.save_weights('cnn_darkchess_weights.h5')"
   ]
  },
  {
   "cell_type": "code",
   "execution_count": null,
   "metadata": {},
   "outputs": [],
   "source": [
    "import pandas as pd \n",
    "predictions = model.predict_classes(gray_frame1) \n",
    "pd.crosstab(gray_label, predictions, rownames=['實際值'], colnames=['預測值'])"
   ]
  },
  {
   "cell_type": "code",
   "execution_count": null,
   "metadata": {},
   "outputs": [],
   "source": [
    "plt.plot(history.history['accuracy'], label='accuracy')\n",
    "plt.plot(history.history['loss'], label = 'loss')\n",
    "plt.xlabel('Epoch')\n",
    "plt.ylabel('Accuracy')\n",
    "plt.ylim([-0.05, 1.05])\n",
    "plt.xlim([0, 5])\n",
    "plt.legend(loc='lower right')"
   ]
  },
  {
   "cell_type": "code",
   "execution_count": null,
   "metadata": {},
   "outputs": [],
   "source": [
    "import cv2\n",
    "\n",
    "camera_url = \"http://192.168.14.56:8081\"\n",
    "\n",
    "# 创建视频捕获对象\n",
    "cap = cv2.VideoCapture(camera_url)\n",
    "\n",
    "if not cap.isOpened():\n",
    "    print(\"无法打开摄像头\")\n",
    "    exit()\n",
    "\n",
    "while True:\n",
    "    # 读取一帧\n",
    "    ret, frame = cap.read()\n",
    "    if not ret:\n",
    "        print(\"无法接收帧（可能已到视频流的末尾）。正在退出...\")\n",
    "        break\n",
    "\n",
    "    frame = cv2.resize(frame, (1920, 1080)) \n",
    "    # 显示帧\n",
    "    cv2.imshow('IP Camera Stream', frame)\n",
    "\n",
    "    # 按下 'Q' 键退出\n",
    "    if cv2.waitKey(1) & 0xFF == ord('q'):\n",
    "        break\n",
    "\n",
    "# 释放资源\n",
    "cap.release()\n",
    "cv2.destroyAllWindows()\n"
   ]
  }
 ],
 "metadata": {
  "kernelspec": {
   "display_name": "Python 3 (ipykernel)",
   "language": "python",
   "name": "python3"
  },
  "language_info": {
   "codemirror_mode": {
    "name": "ipython",
    "version": 3
   },
   "file_extension": ".py",
   "mimetype": "text/x-python",
   "name": "python",
   "nbconvert_exporter": "python",
   "pygments_lexer": "ipython3",
   "version": "3.10.12"
  }
 },
 "nbformat": 4,
 "nbformat_minor": 2
}
